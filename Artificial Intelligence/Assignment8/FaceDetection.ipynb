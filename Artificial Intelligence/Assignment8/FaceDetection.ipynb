{
 "cells": [
  {
   "cell_type": "markdown",
   "metadata": {
    "collapsed": true,
    "pycharm": {
     "name": "#%% md\n"
    }
   },
   "source": [
    "# Task 2 - Building the data set"
   ]
  },
  {
   "cell_type": "code",
   "execution_count": 12,
   "outputs": [],
   "source": [
    "# Imports\n",
    "import random\n",
    "import torch\n",
    "import torch.nn as nn\n",
    "import torch.optim as optim\n",
    "import time\n",
    "from torch.utils.data import Dataset, DataLoader\n",
    "from torchvision import datasets, models, transforms\n",
    "import requests"
   ],
   "metadata": {
    "collapsed": false,
    "pycharm": {
     "name": "#%%\n"
    }
   }
  },
  {
   "cell_type": "code",
   "execution_count": null,
   "outputs": [],
   "source": [
    "# Choose a device\n",
    "device = \"cuda:0\""
   ],
   "metadata": {
    "collapsed": false,
    "pycharm": {
     "name": "#%%\n"
    }
   }
  },
  {
   "cell_type": "markdown",
   "source": [
    "### Downloading the required images\n",
    "50 - male faces\n",
    "50 - female faces\n",
    "50 - other images"
   ],
   "metadata": {
    "collapsed": false,
    "pycharm": {
     "name": "#%% md\n"
    }
   }
  },
  {
   "cell_type": "code",
   "execution_count": 13,
   "outputs": [],
   "source": [
    "data_request = {\"male\" : \"https://fakeface.rest/face/view?gender=male\",\n",
    "                \"female\" : \"https://fakeface.rest/face/view?gender=female\",\n",
    "                \"pokemon\" : \"https://pokeres.bastionbot.org/images/pokemon/\"\n",
    "                }\n",
    "for current_set in data_request.items():\n",
    "    for i in range(0, 50):\n",
    "        if current_set[0] == \"pokemon\":\n",
    "            response = requests.get(current_set[1] + str(random.randint(1, 890)) + \".png\")\n",
    "        else:\n",
    "            response = requests.get(current_set[1])\n",
    "        file = open(\"data/face_set/\" + current_set[0] + \"/\" + str(i + 1) + \".png\", \"wb\")\n",
    "        file.write(response.content)\n",
    "        file.close()"
   ],
   "metadata": {
    "collapsed": false,
    "pycharm": {
     "name": "#%%\n"
    }
   }
  },
  {
   "cell_type": "code",
   "execution_count": null,
   "outputs": [],
   "source": [
    "class ImageClassifierDataset(Dataset):\n",
    "    def __init__(self, image_list, image_classes):\n",
    "        self.images = []\n",
    "        self.labels = []\n",
    "\n",
    "        self.classes = list(set(image_classes))\n",
    "        self.class_to_label = { c: i for i, c in enumerate(self.classes) }\n",
    "        self.image_size = 224\n",
    "        self.transforms = transforms.Compose([\n",
    "            transforms.Resize(self.image_size),\n",
    "            transforms.CenterCrop(self.image_size),\n",
    "            transforms.ToTensor(),\n",
    "            transforms.Normalize((0.5, 0.5, 0.5), (0.5, 0.5, 0.5))\n",
    "        ])\n",
    "        for image, image_class in zip(image_list, image_classes):\n",
    "            transformed_image = self.transforms(image)\n",
    "            self.images.append(transformed_image)\n",
    "            label = self.class_to_label[image_class]\n",
    "            self.labels.append(label)\n",
    "\n",
    "    def __getitem__(self, index):\n",
    "        return self.images[index], self.labels[index]\n",
    "    def __len__(self):\n",
    "        return len(self.images)\n"
   ],
   "metadata": {
    "collapsed": false,
    "pycharm": {
     "name": "#%%\n"
    }
   }
  }
 ],
 "metadata": {
  "kernelspec": {
   "display_name": "Python 3",
   "language": "python",
   "name": "python3"
  },
  "language_info": {
   "codemirror_mode": {
    "name": "ipython",
    "version": 2
   },
   "file_extension": ".py",
   "mimetype": "text/x-python",
   "name": "python",
   "nbconvert_exporter": "python",
   "pygments_lexer": "ipython2",
   "version": "2.7.6"
  }
 },
 "nbformat": 4,
 "nbformat_minor": 0
}